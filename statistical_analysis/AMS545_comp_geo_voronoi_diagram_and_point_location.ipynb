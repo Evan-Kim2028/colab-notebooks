{
  "nbformat": 4,
  "nbformat_minor": 0,
  "metadata": {
    "colab": {
      "name": "AMS 545_comp_geo_voronoi_diagram_and_point_location.ipynb",
      "provenance": [],
      "collapsed_sections": [],
      "toc_visible": true
    },
    "kernelspec": {
      "name": "python3",
      "display_name": "Python 3"
    }
  },
  "cells": [
    {
      "cell_type": "code",
      "metadata": {
        "id": "mh5oivyxpH56"
      },
      "source": [
        "import collections\n",
        "\n",
        "import numpy as np\n",
        "import pandas as pd\n",
        "from scipy.spatial import ConvexHull, convex_hull_plot_2d, Delaunay, Voronoi, voronoi_plot_2d\n",
        "import matplotlib.pyplot as plt\n",
        "import matplotlib.path as path\n",
        "import matplotlib as mpl\n",
        "import matplotlib.cm as cm\n",
        "import time\n",
        "%matplotlib inline"
      ],
      "execution_count": null,
      "outputs": []
    },
    {
      "cell_type": "markdown",
      "metadata": {
        "id": "_sPXF4rbpQ0s"
      },
      "source": [
        "# <center> First Point Query Location Attempt (Naive Method) </center>"
      ]
    },
    {
      "cell_type": "code",
      "metadata": {
        "id": "MfsTTjQ3pQMx"
      },
      "source": [
        "def Area2(a: np.array, b: np.array, c: np.array): #Scipy has  a determinant method, but it uses LU factorization (which is O(n^3))\n",
        "  '''\n",
        "    Left Test - Calculate determinant, if > 0, then point c lies 'to the left' of the segment.\n",
        "  '''\n",
        "  # tests whether point c lies to the right or left of the other two points\n",
        "  area = ((b[0] - a[0]) * (c[1] - a[1])) - ((c[0] - a[0]) * (b[1] - a[1]))\n",
        "  #area = (b[0][0] - a[0][0]) * (c[0][1] - a[0][1]) - (c[0][0] - a[0][0]) * (b[0][1] - a[0][1])\n",
        "  return area #if area is less than 0, then left test fails\n",
        "\n",
        "def query_region(vertices: np.array, corrected_regions: list, test_point: np.array):\n",
        "  '''\n",
        "  - Using the property that L2 voronoi regions are convex to do left tests on each polygon (The query can be improved to O(\\log n), Exercise 7.4.3 Orourke)). \n",
        "  \n",
        "  - Algorithm queries a voronoi diagram in O(k*n), where n is the number of edges and k is a constant query size so it is dependent on the input. \n",
        "  \n",
        "  - I think the algorithm uses O(n) space and preprocessing time. \n",
        "  Basically I do left tests on the sum of vertices in the total number of regions. This is built with only arrays and lists.\n",
        "\n",
        "  '''\n",
        "  records = []\n",
        "  for region in corrected_regions:\n",
        "    local_records = []\n",
        "    for i in range(1, len(region)): # regions are going in counter clockwise direction\n",
        "        a = vertices[region[i-1]]\n",
        "        b = vertices[region[i]]\n",
        "        area = Area2(a, b, test_point)\n",
        "        ###print(area)\n",
        "        local_records.append(area)\n",
        "    last_edge = Area2(vertices[region[-1]], vertices[region[0]], test_point)\n",
        "    ###print(\"last edge\", last_edge)\n",
        "    local_records.append(last_edge)\n",
        "    records.append(local_records)\n",
        "\n",
        "  # return corrected_region index instead\n",
        "  answer = [index for index, row in enumerate(records) if all(col > 0 for col in row)]\n",
        "  ### print(\"point has been found in this region:\", corrected_regions[answer[0]])\n",
        "  return answer\n",
        "\n",
        "def get_edges(vertices: np.array, corrected_regions: list):\n",
        "  '''\n",
        "  Adaptation from query_regions, returns the endpoints of each segment in each region in a nested list. Endpoints are stored as indexes of vertices as opposed to point coordinates.\n",
        "  '''\n",
        "  master_edge_list = []\n",
        "  for region in corrected_regions:\n",
        "    edge_list = []\n",
        "    for i in range(1, len(region)): # 4/26/20 - pretty sure regions are going in counter clockwise direction, should probably double check though\n",
        "        a = region[i-1]\n",
        "        b = region[i]\n",
        "        #area = Area2(a, b, test_point)\n",
        "        edge = (a,b)\n",
        "        #print(area)\n",
        "        edge_list.append(edge)\n",
        "    last_edge = (region[-1], region[0])\n",
        "    #print(last_edge)\n",
        "    edge_list.append(last_edge)\n",
        "    master_edge_list.append(edge_list)\n",
        "  return master_edge_list"
      ],
      "execution_count": null,
      "outputs": []
    },
    {
      "cell_type": "markdown",
      "metadata": {
        "id": "lfDQ7z7GpUbK"
      },
      "source": [
        "# <center> DAG Construction </center>"
      ]
    },
    {
      "cell_type": "code",
      "metadata": {
        "id": "R5s25lTRpT46"
      },
      "source": [
        "def make_adj_matrix(adj_list, n):\n",
        "  adj_matrix = np.zeros((n,n))\n",
        "  for polygon in adj_list:\n",
        "    for edge in polygon:\n",
        "        adj_matrix[edge[0], edge[1]] = 1\n",
        "        adj_matrix[edge[1], edge[0]] = 1\n",
        "        adj_matrix[edge[1], edge[1]] = -1\n",
        "  return adj_matrix\n",
        "\n",
        "def get_adj_edges(vertex, adj_matrix):\n",
        "  '''\n",
        "  Input:\n",
        "  vertex = vertex index\n",
        "  adj_matrix = np.ndarray\n",
        "\n",
        "  Output:\n",
        "  Returns an adjacent vertex edges list\n",
        "  '''\n",
        "  adj_edge_list = []\n",
        "  for col in range(len(adj_matrix[vertex])):\n",
        "    if adj_matrix[vertex][col] == 1:\n",
        "      adj_edge_list.append(col)\n",
        "      #print(\"adjacent!\")\n",
        "    if adj_matrix[vertex][col] == 0:\n",
        "      #print(col, \"is not adjacent\", \"to \", vertex)\n",
        "      pass\n",
        "  return adj_edge_list\n",
        "\n",
        "def remove_sacred_points(index_counter, hull_points):\n",
        "  '''\n",
        "  Input: \n",
        "  index_counter and hull points (sacred points)\n",
        "\n",
        "  Output: \n",
        "  index_counter_output is a list of the index vertices list minus the hull points\n",
        "  '''\n",
        "  index_counter_output = index_counter\n",
        "  for vertex in index_counter:\n",
        "    for sacred_vertex in hull_points: #sacred points are [2,0,4,1]\n",
        "      if vertex == sacred_vertex:\n",
        "        index_counter_output.remove(vertex)\n",
        "        # print(\"remove scared point from index_counter_copy\", index_counter_output)\n",
        "  return index_counter_output\n",
        "\n",
        "def make_independent_set(index_counter, hull_points, vertices, adj_matrix):\n",
        "  '''\n",
        "  Input: \n",
        "  Output: List of independent set vertices\n",
        "  '''\n",
        "  independent_set = []\n",
        "  index_counter_copy = index_counter\n",
        "  for vertex in index_counter_copy:\n",
        "    for sacred_vertex in hull_points: #sacred points are [2,0,4,1]\n",
        "      if vertex == sacred_vertex:\n",
        "        index_counter_copy.remove(vertex)\n",
        "        pass\n",
        "      else:\n",
        "        #find all neighbor vertices of vertex and remove their indexes from index_counter\n",
        "        adj_edge_list = get_adj_edges(vertex, adj_matrix)\n",
        "      for v in index_counter_copy:\n",
        "          for adj_vertex in adj_edge_list:\n",
        "            if v == adj_vertex:\n",
        "              # print(\"vertex's are equal. Remove\", adj_vertex, \"from index_counter\")\n",
        "              index_counter_copy.remove(adj_vertex)\n",
        "              independent_set.append(v)\n",
        "              break\n",
        "\n",
        "  return independent_set\n",
        "\n",
        "def triangulate_vertices(vertices, plot=False):\n",
        "  '''\n",
        "  Triangulate a list of vertices and returns a list of triangles sorted lexicographically in the first slot\n",
        "  '''\n",
        "  tri = Delaunay(vertices)\n",
        "  if plot==True:\n",
        "    plt.triplot(vertices[:,0], vertices[:,1], tri.simplices.copy())\n",
        "    plt.plot(vertices[:,0], vertices[:,1], 'o')\n",
        "    plt.show()\n",
        "\n",
        "  triangles_list = tri.simplices\n",
        "  triangles_list = triangles_list[triangles_list[:,0].argsort()]\n",
        "  return triangles_list\n",
        "\n",
        "def make_triangle_hierarchy(independent_set):\n",
        "  tri_level_list = []\n",
        "  for n in range(1,200):\n",
        "    if independent_set:\n",
        "        independent_set_new = make_independent_set(independent_set, hull_points_index, vertices, adj_matrix)\n",
        "        independent_set = independent_set_new\n",
        "        # get in coordinates\n",
        "        vertex_list_tri = [vertices[index] for index in independent_set]\n",
        "        hull_points = [hull.points[index] for index in hull_points_index]\n",
        "\n",
        "        # triangulate points (with hull points) and append list to binary tree level.\n",
        "        full_points = vertex_list_tri + hull_points\n",
        "        tri_level_list.append(triangulate_vertices(full_points))\n",
        "    else:\n",
        "      return tri_level_list\n",
        "      break"
      ],
      "execution_count": null,
      "outputs": []
    },
    {
      "cell_type": "markdown",
      "metadata": {
        "id": "ypwbO0xepa1n"
      },
      "source": [
        "# <center> DAG Class </center>"
      ]
    },
    {
      "cell_type": "code",
      "metadata": {
        "id": "u0fMPsCbpaSU"
      },
      "source": [
        "class DirectedAcyclicGraph:\n",
        "  def __init__(self, triangle_level_list, convex_hull, vertices, regions):\n",
        "    self.root = convex_hull #region of index's that make the convex hull\n",
        "    self.triangle_level_list = triangle_level_list\n",
        "    self.size = len(self.triangle_level_list)\n",
        "    self.DAGTree = [[Node(\"root\", self.root,)]]\n",
        "    self.vertices = vertices\n",
        "    self.regions = regions\n",
        "\n",
        "  def buildDAG(self):\n",
        "    i = self.size-1\n",
        "    level = 0\n",
        "\n",
        "    while i > -1: # does something special then stops when i=0\n",
        "      triangle_level = self.triangle_level_list[i]\n",
        "      # print(\"triangle level when starting while loop is \", triangle_level)\n",
        "      new_dag_level = []\n",
        "      for triangle in triangle_level:\n",
        "        node = Node(\"child\", triangle)\n",
        "        # make pointers towards root node\n",
        "        self.nodePath(node, level) #assigns parent and children relationship for each child node created\n",
        "        #append nodes to level\n",
        "        new_dag_level.append(node)\n",
        "      self.DAGTree.append(new_dag_level)\n",
        "      new_dag_level = []\n",
        "      i+= -1\n",
        "      level+=1\n",
        "    self.get_voronoi_regions()\n",
        "\n",
        "  def nodePath(self, child, level):\n",
        "    '''\n",
        "    Checks if vertices are in any regions in the level above when constructing DAG\n",
        "    '''\n",
        "    parent_level = self.DAGTree[level]\n",
        "    for parent_index in range(len(parent_level)):\n",
        "      if any(i in child.triangle for i in parent_level[parent_index].triangle):\n",
        "        child.parent.append(parent_level[parent_index])\n",
        "        parent_level[parent_index].child.append(child)\n",
        "\n",
        "  def get_voronoi_regions(self):\n",
        "    for leaf in self.DAGTree[-1]:\n",
        "      #print(\"current leaf triangle is\", leaf.triangle)\n",
        "      for index, region in enumerate(self.regions):\n",
        "        #print(\"region value is\", region)\n",
        "        if any(i in leaf.triangle for i in region):\n",
        "          #print(\"checking if leaf triangle\", leaf.triangle, \"is in\", region)\n",
        "          leaf.region = region #or corrected_region[index]\n",
        "\n",
        "  def find_node(self, vertices: np.array, children_list: list, test_point: np.array):\n",
        "    '''\n",
        "    - Finds the child node that the point lies in. \n",
        "    - Returns node\n",
        "    '''\n",
        "    records = []\n",
        "    for node in children_list:\n",
        "      triangle = node.triangle\n",
        "      local_records = []\n",
        "      for i in range(1, len(triangle)):\n",
        "          a = vertices[triangle[i-1]]\n",
        "          b = vertices[triangle[i]]\n",
        "          area = Area2(a, b, test_point)\n",
        "          ###print(triangle, \"area\", area)\n",
        "          local_records.append(area)\n",
        "      last_edge = Area2(vertices[triangle[-1]], vertices[triangle[0]], test_point)\n",
        "      ###print(\"last edge area\", last_edge)\n",
        "      local_records.append(last_edge)\n",
        "      records.append(local_records)\n",
        "    #print(\"records\", records)\n",
        "    answer = [index for index, row in enumerate(records) if all(col < 0 for col in row)] #triangle vertices are clockwise, so reversed the inequality sign\n",
        "    if answer:\n",
        "      #print(\"point is in this triangle\", triangle)\n",
        "      return node\n",
        "    else:\n",
        "      return None\n",
        "      #return print(test_point, \" is not in this triangle, terminate\")\n",
        "\n",
        "  def point_location(self, query_point):\n",
        "    node_path = []\n",
        "    i=0\n",
        "    current_node_child_list = self.DAGTree[0][0].child\n",
        "    node_path.append(current_node_child_list)\n",
        "    #print(\"current_node_child_list is\", current_node_child_list)\n",
        "    while i < self.size:\n",
        "      next_node = self.find_node(vertices, current_node_child_list, query_point)\n",
        "      if next_node:\n",
        "        current_node_child_list = next_node.child\n",
        "        node_path.append(next_node)\n",
        "        if not current_node_child_list:\n",
        "          node_path.append(next_node.region)\n",
        "          # print(\"reached the end, point lies in this region: \", next_node.region)\n",
        "          return node_path\n",
        "          # print(\"next_node.region value instead of next child\", next_node.region)\n",
        "          print(\"the leaf triangle is\", next_node.triangle)\n",
        "      else:\n",
        "        # print('end in point_location at', self.DAGTree[0][0].triangle)\n",
        "        return\n",
        "      i += 1\n",
        "\n",
        "\n",
        "\n",
        "class Node:\n",
        "    def __init__(self, name, triangle, parent=None):\n",
        "        self.name = name\n",
        "        self.triangle = triangle #triangulation vertex list\n",
        "        self.parent = []\n",
        "        self.child = []\n",
        "        self.region = None # corresponding voronoi region, only for leaf nodes"
      ],
      "execution_count": null,
      "outputs": []
    },
    {
      "cell_type": "markdown",
      "metadata": {
        "id": "aC6edd-uvrtj"
      },
      "source": [
        "![picture!](https://drive.google.com/uc?id=1o9iFQeEQDATrUYxfZxS3DapDPE0tMVRY)\n"
      ]
    },
    {
      "cell_type": "code",
      "metadata": {
        "id": "GIKp5_bQpfbH",
        "outputId": "dce496a9-cf39-4e46-b758-e701e46bf1cd",
        "colab": {
          "base_uri": "https://localhost:8080/",
          "height": 265
        }
      },
      "source": [
        "# Make dumby points so I can understand the voronoi data structure better:\n",
        "points = np.array([[0, 0], [0, 4], [0,3], [1, 2],\n",
        "                    [2, 2], [100,100], [-100,0], [100,-100], [-100,100]]) # \n",
        "vor = Voronoi(points)\n",
        "voronoi_plot_2d(vor)\n",
        "plt.show()"
      ],
      "execution_count": null,
      "outputs": [
        {
          "output_type": "display_data",
          "data": {
            "image/png": "[encoded data removed]",
            "text/plain": [
              "<Figure size 432x288 with 1 Axes>"
            ]
          },
          "metadata": {
            "tags": [],
            "needs_background": "light"
          }
        }
      ]
    },
    {
      "cell_type": "code",
      "metadata": {
        "id": "9fCtg9VWpf6L",
        "outputId": "12455af2-babe-4e36-fa24-315a907baefe",
        "colab": {
          "base_uri": "https://localhost:8080/",
          "height": 265
        }
      },
      "source": [
        "points_no_extreme = np.array([[0, 0], [0, 4], [0,3], [1, 2],\n",
        "                    [2, 2]])\n",
        "vor_no_extreme = Voronoi(points_no_extreme)\n",
        "voronoi_plot_2d(vor_no_extreme)\n",
        "plt.show()"
      ],
      "execution_count": null,
      "outputs": [
        {
          "output_type": "display_data",
          "data": {
            "image/png": "[encoded data removed]",
            "text/plain": [
              "<Figure size 432x288 with 1 Axes>"
            ]
          },
          "metadata": {
            "tags": [],
            "needs_background": "light"
          }
        }
      ]
    },
    {
      "cell_type": "code",
      "metadata": {
        "id": "iARsC4Bepf8z",
        "outputId": "2fc315f0-e324-4d19-a511-141a5115be68",
        "colab": {
          "base_uri": "https://localhost:8080/",
          "height": 98
        }
      },
      "source": [
        "vertices = vor.vertices # vertices are stored in ndarray, region is stored in a list\n",
        "regions = vor.regions\n",
        "corrected_regions = [i for i in regions if i and (-1 not in i)]\n",
        "corrected_regions #corresponding index's of the vertices for each voronoi region"
      ],
      "execution_count": null,
      "outputs": [
        {
          "output_type": "execute_result",
          "data": {
            "text/plain": [
              "[[9, 10, 7, 8],\n",
              " [7, 6, 10],\n",
              " [8, 0, 5, 6, 7],\n",
              " [9, 2, 1, 3, 10],\n",
              " [10, 3, 4, 5, 6]]"
            ]
          },
          "metadata": {
            "tags": []
          },
          "execution_count": 7
        }
      ]
    },
    {
      "cell_type": "code",
      "metadata": {
        "id": "Wtp2u4Kwpf_g"
      },
      "source": [
        "# Build adjacency matrix\n",
        "adj_list = get_edges(vertices, corrected_regions)\n",
        "n = vertices.shape[0]\n",
        "adj_matrix = make_adj_matrix(adj_list, n) # makes adjacent_matrix\n",
        "\n",
        "# Get index of points on convex hull\n",
        "index_counter = [i for i in range(len(vertices))]\n",
        "hull = ConvexHull(vertices)\n",
        "hull_points_index = hull.vertices\n",
        "\n",
        "# Remove \"sacred CH points\"\n",
        "index_counter_no_ch = remove_sacred_points(index_counter, hull_points_index)\n",
        "tri_level_list = make_triangle_hierarchy(index_counter_no_ch)"
      ],
      "execution_count": null,
      "outputs": []
    },
    {
      "cell_type": "code",
      "metadata": {
        "id": "3H5PyuqmvEWV",
        "outputId": "6e1fbc09-f1c0-4bda-b8cf-bafc37f42db5",
        "colab": {
          "base_uri": "https://localhost:8080/",
          "height": 33
        }
      },
      "source": [
        "index_counter_no_ch"
      ],
      "execution_count": null,
      "outputs": [
        {
          "output_type": "execute_result",
          "data": {
            "text/plain": [
              "[6, 9]"
            ]
          },
          "metadata": {
            "tags": []
          },
          "execution_count": 9
        }
      ]
    },
    {
      "cell_type": "code",
      "metadata": {
        "id": "kbFYDvPqpmnD"
      },
      "source": [
        "myDag = DirectedAcyclicGraph(tri_level_list, hull_points_index, vertices, corrected_regions)"
      ],
      "execution_count": null,
      "outputs": []
    },
    {
      "cell_type": "code",
      "metadata": {
        "id": "WRfRiBdvpnpu"
      },
      "source": [
        "myDag.buildDAG()"
      ],
      "execution_count": null,
      "outputs": []
    },
    {
      "cell_type": "code",
      "metadata": {
        "id": "_4inEX_UpnsB",
        "outputId": "064a6d47-cd62-4e87-a38c-c515c26c1824",
        "colab": {
          "base_uri": "https://localhost:8080/",
          "height": 33
        }
      },
      "source": [
        "myDag.DAGTree[3][4].triangle"
      ],
      "execution_count": null,
      "outputs": [
        {
          "output_type": "execute_result",
          "data": {
            "text/plain": [
              "array([2, 3, 5], dtype=int32)"
            ]
          },
          "metadata": {
            "tags": []
          },
          "execution_count": 12
        }
      ]
    },
    {
      "cell_type": "markdown",
      "metadata": {
        "id": "9DPmqBLepqso"
      },
      "source": [
        "# <center> **Query Speed Performance Test** </center>"
      ]
    },
    {
      "cell_type": "code",
      "metadata": {
        "id": "CaSyyaJap3u9"
      },
      "source": [
        "# Query time test for DAG\n",
        "def time_query_DAG(count):\n",
        "  queries = []\n",
        "  start = time.time()\n",
        "  for i in range(0,count):\n",
        "    query_point = np.random.uniform(size=2) * np.random.randint(low=-100, high=100, size=2)\n",
        "    #query_point = np.random.uniform(size=2) * np.random.randint(low=-1000, high=1000, size=2)\n",
        "    # print(\"query point\", query_point)\n",
        "    query = myDag.point_location(query_point)\n",
        "    queries.append(query)\n",
        "  total_time = time.time() - start\n",
        "  # print(\"elapsed time\", total_time)\n",
        "  # queries_drop_null = [x for x in queries if x != []]\n",
        "  #return total_time\n",
        "  return len(queries), total_time\n",
        "\n",
        "def time_query(count):\n",
        "  queries = []\n",
        "  start = time.time()\n",
        "  for i in range(0,count):\n",
        "    query_point = np.random.uniform(size=2) * np.random.randint(low=-100, high=100, size=2)\n",
        "    #query_point = np.random.uniform(size=2) * np.random.randint(low=-1000, high=1000, size=2)\n",
        "    query = query_region(vertices, corrected_regions, query_point)\n",
        "    queries.append(query)\n",
        "  total_time = time.time() - start\n",
        "  # print(\"elapsed time\", total_time)\n",
        "  # queries_drop_null = [x for x in queries if x != []]\n",
        "  return len(queries), total_time"
      ],
      "execution_count": null,
      "outputs": []
    },
    {
      "cell_type": "code",
      "metadata": {
        "id": "Pr_umQwcp3xl"
      },
      "source": [
        "x_10000, y_10000 = time_query_DAG(10000)\n",
        "x_20000, y_20000 = time_query_DAG(20000)\n",
        "x_30000, y_30000 = time_query_DAG(30000)\n",
        "x_40000, y_40000 = time_query_DAG(40000)\n",
        "x_50000, y_50000 = time_query_DAG(50000)\n",
        "x_60000, y_60000 = time_query_DAG(60000)\n",
        "x_70000, y_70000 = time_query_DAG(70000)\n",
        "\n",
        "x1_10000, y1_10000 = time_query(10000)\n",
        "x1_20000, y1_20000 = time_query(20000)\n",
        "x1_30000, y1_30000 = time_query(30000)\n",
        "x1_40000, y1_40000 = time_query(40000)\n",
        "x1_50000, y1_50000 = time_query(50000)\n",
        "x1_60000, y1_60000 = time_query(60000)\n",
        "x1_70000, y1_70000 = time_query(70000)"
      ],
      "execution_count": null,
      "outputs": []
    },
    {
      "cell_type": "code",
      "metadata": {
        "id": "b9Xu1JEPp30L"
      },
      "source": [
        "y0_dag = [y_10000, y_20000, y_30000, y_40000 , y_50000, y_60000, y_70000]\n",
        "x0_dag = [x_10000, x_20000, x_30000, x_40000 , x_50000, x_60000, x_70000]\n",
        "\n",
        "y0 = [y1_10000, y1_20000, y1_30000, y1_40000 , y1_50000, y1_60000, y1_70000]\n",
        "x0 = [x1_10000, x1_20000, x1_30000, x1_40000 , x1_50000, x1_60000, x1_70000]"
      ],
      "execution_count": null,
      "outputs": []
    },
    {
      "cell_type": "code",
      "metadata": {
        "id": "_B7UiLjjp36R",
        "outputId": "07698443-7d2a-4f20-c783-fb5b6068490c",
        "colab": {
          "base_uri": "https://localhost:8080/",
          "height": 295
        }
      },
      "source": [
        "plt.plot(x0,y0, 'bo');\n",
        "plt.plot(x0,y0);\n",
        "plt.plot(x0_dag,y0_dag, 'ro');\n",
        "plt.plot(x0_dag,y0_dag);\n",
        "plt.xlabel(\"Number of Points\")\n",
        "plt.ylabel(\"Time in Seconds\")\n",
        "plt.title(\"Naive (blue) vs DAG (red)\")\n",
        "plt.show()"
      ],
      "execution_count": null,
      "outputs": [
        {
          "output_type": "display_data",
          "data": {
            "image/png": "[encoded data removed]",
            "text/plain": [
              "<Figure size 432x288 with 1 Axes>"
            ]
          },
          "metadata": {
            "tags": [],
            "needs_background": "light"
          }
        }
      ]
    },
    {
      "cell_type": "code",
      "metadata": {
        "id": "A96BAwwGqLcb"
      },
      "source": [
        ""
      ],
      "execution_count": null,
      "outputs": []
    }
  ]
}
